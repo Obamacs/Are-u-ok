{
  "nbformat": 4,
  "nbformat_minor": 0,
  "metadata": {
    "colab": {
      "provenance": [],
      "gpuType": "T4"
    },
    "kernelspec": {
      "name": "python3",
      "display_name": "Python 3"
    },
    "language_info": {
      "name": "python"
    },
    "accelerator": "GPU"
  },
  "cells": [
    {
      "cell_type": "code",
      "execution_count": null,
      "metadata": {
        "id": "LLO1QIui7OzE"
      },
      "outputs": [],
      "source": [
        "#@title Install LatentSync and 'restart the session'. If you receive any pop-ups, click 'Cancel'.\n",
        "%cd /content/\n",
        "!rm -rf /content/LatentSync\n",
        "!git clone https://github.com/bytedance/LatentSync.git\n",
        "%cd /content/LatentSync\n",
        "!pip install huggingface-hub==0.25.2\n",
        "from huggingface_hub import snapshot_download\n",
        "snapshot_download(repo_id=\"chunyu-li/LatentSync\",local_dir=\"/content/LatentSync/checkpoints\", ignore_patterns=[\"*.git\" \"*.md\"])\n",
        "!mkdir -p ~/.cache/torch/hub/checkpoints\n",
        "checkpoint_path=\"/content/LatentSync/checkpoints\"\n",
        "!ln -s $checkpoint_path/checkpoints/auxiliary/2DFAN4-cd938726ad.zip /root/.cache/torch/hub/checkpoints/2DFAN4-cd938726ad.zip\n",
        "!ln -s $checkpoint_path/checkpoints/auxiliary/s3fd-619a316812.pth /root/.cache/torch/hub/checkpoints/s3fd-619a316812.pth\n",
        "!ln -s $checkpoint_path/checkpoints/auxiliary/vgg16-397923af.pth /root/.cache/torch/hub/checkpoints/vgg16-397923af.pth\n",
        "# !huggingface-cli download chunyu-li/LatentSync --local-dir /content/LatentSync/checkpoints --exclude \"*.git*\" \"README.md\"\n",
        "# torch >= 2.2.2\n",
        "# torchvision >= 0.17.2\n",
        "# --extra-index-url https://download.pytorch.org/whl/cu121\n",
        "!pip install xformers>=0.0.26\n",
        "!pip install triton==2.2.0\n",
        "!pip install diffusers==0.11.1\n",
        "!pip install transformers==4.38.0\n",
        "!pip install imageio==2.27.0\n",
        "!pip install decord==0.6.0\n",
        "!pip install accelerate==0.26.1\n",
        "!pip install einops==0.7.0\n",
        "!pip install omegaconf==2.3.0\n",
        "!pip install safetensors==0.4.2\n",
        "# opencv-python >= 4.9.0.80\n",
        "!pip install mediapipe==0.10.11\n",
        "!pip install av==11.0.0\n",
        "!pip install torch-fidelity==0.3.0\n",
        "!pip install torchmetrics==1.3.1\n",
        "!pip install python_speech_features==0.6\n",
        "!pip install librosa==0.10.1\n",
        "!pip install scenedetect==0.6.1\n",
        "!pip install ffmpeg-python==0.2.0\n",
        "!pip install lpips==0.1.4\n",
        "!pip install face-alignment==1.4.1\n",
        "!pip install ninja==1.11.1.1\n",
        "!pip install pandas==2.0.3\n",
        "!pip install jax==0.4.13 jaxlib==0.4.13 flax==0.7.0\n",
        "!pip install numpy==1.24.4\n",
        "!pip install gradio==5.9.1\n",
        "\n",
        "from IPython.display import clear_output\n",
        "clear_output()\n",
        "import time\n",
        "time.sleep(5)\n",
        "#automatically restart session\n",
        "import os\n",
        "os.kill(os.getpid(), 9)"
      ]
    },
    {
      "cell_type": "code",
      "source": [
        "%cd /content/LatentSync/\n",
        "!python gradio_app.py"
      ],
      "metadata": {
        "id": "iCz2Ia4kAgP4"
      },
      "execution_count": null,
      "outputs": []
    },
    {
      "cell_type": "code",
      "source": [
        "#@title Run in colab cell\n",
        "input_video = '/content/LatentSync/assets/demo1_video.mp4'  # @param {type: \"string\"}\n",
        "input_audio = '/content/LatentSync/assets/demo1_audio.wav'  # @param {type: \"string\"}\n",
        "save_at = '/content/result.mp4'  # @param {type: \"string\"}\n",
        "\n",
        "%cd /content/LatentSync/\n",
        "!python -m scripts.inference \\\n",
        "    --unet_config_path \"configs/unet/second_stage.yaml\" \\\n",
        "    --inference_ckpt_path \"checkpoints/latentsync_unet.pt\" \\\n",
        "    --guidance_scale 1.0 \\\n",
        "    --video_path $input_video \\\n",
        "    --audio_path $input_audio \\\n",
        "    --video_out_path $save_at"
      ],
      "metadata": {
        "cellView": "form",
        "id": "v0qcduBbkCNt"
      },
      "execution_count": null,
      "outputs": []
    }
  ]
}